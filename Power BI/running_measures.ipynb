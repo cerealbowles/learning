{
 "cells": [
  {
   "cell_type": "code",
   "execution_count": null,
   "metadata": {
    "vscode": {
     "languageId": "dax-language"
    }
   },
   "outputs": [],
   "source": [
    "// Measure to calculate the change since the last value\n",
    "change_since_last = \n",
    "    VAR __Goal = [goal]\n",
    "    VAR __Date = [ld_dt]\n",
    "    VAR __Value = [value]\n",
    "    VAR __PrevDate = MAXX(FILTER(ALL(OKRS), [ld_dt]<__Date), [ld_dt])\n",
    "    VAR __PrevValue = MAXX(FILTER(ALL(OKRS), [goal] = __Goal && [ld_dt] = __PrevDate), [value])\n",
    "    VAR __DiffP = DIVIDE(__Value - __PrevValue, __PrevValue)\n",
    "    VAR __Result = IF(__PrevValue = BLANK(), BLANK(), __DiffP)\n",
    "RETURN\n",
    "    __Result "
   ]
  }
 ],
 "metadata": {
  "language_info": {
   "name": "python"
  }
 },
 "nbformat": 4,
 "nbformat_minor": 2
}
