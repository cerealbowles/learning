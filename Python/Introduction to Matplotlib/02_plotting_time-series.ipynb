{
 "cells": [
  {
   "cell_type": "code",
   "execution_count": null,
   "metadata": {},
   "outputs": [],
   "source": [
    "# Plotting time series data\n",
    "import matplotlib.pyplot as plt\n",
    "fig, ax = plt.subplots()\n",
    "\n",
    "ax.plot(climate_change.index, climate_change['co2'])\n",
    "ax.set_xlabel('Time')\n",
    "ax.set_ylabel('CO2 (ppm)')\n",
    "plt.show()\n",
    "\n",
    "# zooming in on a decade\n",
    "sixties = climate_change[\"1960-01-01\":\"1969-12-31\"]\n",
    "fig, ax = plt.subplots()\n",
    "ax.plot(sixties.index, sixties['co2'])\n",
    "ax.set_xlabel('Time')\n",
    "ax.set_ylabel('CO2 (ppm)')\n",
    "plt.show()\n",
    "\n",
    "# zooming in on a year\n",
    "sixty_nine = climate_change[\"1969-01-01\":\"1969-12-31\"]\n",
    "fig, ax = plt.subplots()\n",
    "ax.plot(sixty_nine.index, sixty_nine['co2'])\n",
    "ax.set_xlabel('Time')\n",
    "ax.set_ylabel('CO2 (ppm)')\n",
    "plt.show()\n"
   ]
  }
 ],
 "metadata": {
  "language_info": {
   "name": "python"
  }
 },
 "nbformat": 4,
 "nbformat_minor": 2
}
